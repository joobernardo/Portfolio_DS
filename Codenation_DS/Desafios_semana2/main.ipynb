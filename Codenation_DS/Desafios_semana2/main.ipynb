{
 "cells": [
  {
   "cell_type": "markdown",
   "metadata": {},
   "source": [
    "# Desafio 1\n",
    "\n",
    "Para esse desafio, vamos trabalhar com o data set [Black Friday](https://www.kaggle.com/mehdidag/black-friday), que reúne dados sobre transações de compras em uma loja de varejo.\n",
    "\n",
    "Vamos utilizá-lo para praticar a exploração de data sets utilizando pandas. Você pode fazer toda análise neste mesmo notebook, mas as resposta devem estar nos locais indicados.\n",
    "\n",
    "> Obs.: Por favor, não modifique o nome das funções de resposta."
   ]
  },
  {
   "cell_type": "markdown",
   "metadata": {},
   "source": [
    "## _Set up_ da análise"
   ]
  },
  {
   "cell_type": "code",
   "execution_count": 1,
   "metadata": {},
   "outputs": [],
   "source": [
    "import pandas as pd\n",
    "import numpy as np\n"
   ]
  },
  {
   "cell_type": "code",
   "execution_count": 2,
   "metadata": {},
   "outputs": [],
   "source": [
    "black_friday = pd.read_csv(\"black_friday.csv\")"
   ]
  },
  {
   "cell_type": "markdown",
   "metadata": {},
   "source": [
    "## Inicie sua análise a partir daqui"
   ]
  },
  {
   "cell_type": "markdown",
   "metadata": {},
   "source": [
    "# Vamos ver como os dados sao distribuidos no dataset"
   ]
  },
  {
   "cell_type": "code",
   "execution_count": 3,
   "metadata": {},
   "outputs": [
    {
     "data": {
      "text/html": [
       "<div>\n",
       "<style scoped>\n",
       "    .dataframe tbody tr th:only-of-type {\n",
       "        vertical-align: middle;\n",
       "    }\n",
       "\n",
       "    .dataframe tbody tr th {\n",
       "        vertical-align: top;\n",
       "    }\n",
       "\n",
       "    .dataframe thead th {\n",
       "        text-align: right;\n",
       "    }\n",
       "</style>\n",
       "<table border=\"1\" class=\"dataframe\">\n",
       "  <thead>\n",
       "    <tr style=\"text-align: right;\">\n",
       "      <th></th>\n",
       "      <th>User_ID</th>\n",
       "      <th>Product_ID</th>\n",
       "      <th>Gender</th>\n",
       "      <th>Age</th>\n",
       "      <th>Occupation</th>\n",
       "      <th>City_Category</th>\n",
       "      <th>Stay_In_Current_City_Years</th>\n",
       "      <th>Marital_Status</th>\n",
       "      <th>Product_Category_1</th>\n",
       "      <th>Product_Category_2</th>\n",
       "      <th>Product_Category_3</th>\n",
       "      <th>Purchase</th>\n",
       "    </tr>\n",
       "  </thead>\n",
       "  <tbody>\n",
       "    <tr>\n",
       "      <th>358342</th>\n",
       "      <td>1001201</td>\n",
       "      <td>P00274942</td>\n",
       "      <td>M</td>\n",
       "      <td>18-25</td>\n",
       "      <td>4</td>\n",
       "      <td>C</td>\n",
       "      <td>4+</td>\n",
       "      <td>0</td>\n",
       "      <td>8</td>\n",
       "      <td>NaN</td>\n",
       "      <td>NaN</td>\n",
       "      <td>9963</td>\n",
       "    </tr>\n",
       "    <tr>\n",
       "      <th>236054</th>\n",
       "      <td>1000412</td>\n",
       "      <td>P00025942</td>\n",
       "      <td>M</td>\n",
       "      <td>36-45</td>\n",
       "      <td>15</td>\n",
       "      <td>A</td>\n",
       "      <td>1</td>\n",
       "      <td>1</td>\n",
       "      <td>8</td>\n",
       "      <td>14.0</td>\n",
       "      <td>NaN</td>\n",
       "      <td>9928</td>\n",
       "    </tr>\n",
       "    <tr>\n",
       "      <th>305984</th>\n",
       "      <td>1005121</td>\n",
       "      <td>P00265542</td>\n",
       "      <td>M</td>\n",
       "      <td>26-35</td>\n",
       "      <td>7</td>\n",
       "      <td>C</td>\n",
       "      <td>4+</td>\n",
       "      <td>0</td>\n",
       "      <td>5</td>\n",
       "      <td>8.0</td>\n",
       "      <td>NaN</td>\n",
       "      <td>3569</td>\n",
       "    </tr>\n",
       "    <tr>\n",
       "      <th>97310</th>\n",
       "      <td>1003080</td>\n",
       "      <td>P00058442</td>\n",
       "      <td>M</td>\n",
       "      <td>26-35</td>\n",
       "      <td>20</td>\n",
       "      <td>A</td>\n",
       "      <td>4+</td>\n",
       "      <td>1</td>\n",
       "      <td>5</td>\n",
       "      <td>14.0</td>\n",
       "      <td>NaN</td>\n",
       "      <td>3581</td>\n",
       "    </tr>\n",
       "    <tr>\n",
       "      <th>491862</th>\n",
       "      <td>1003757</td>\n",
       "      <td>P00036842</td>\n",
       "      <td>M</td>\n",
       "      <td>26-35</td>\n",
       "      <td>7</td>\n",
       "      <td>B</td>\n",
       "      <td>1</td>\n",
       "      <td>0</td>\n",
       "      <td>1</td>\n",
       "      <td>14.0</td>\n",
       "      <td>16.0</td>\n",
       "      <td>19480</td>\n",
       "    </tr>\n",
       "  </tbody>\n",
       "</table>\n",
       "</div>"
      ],
      "text/plain": [
       "        User_ID Product_ID Gender    Age  Occupation City_Category  \\\n",
       "358342  1001201  P00274942      M  18-25           4             C   \n",
       "236054  1000412  P00025942      M  36-45          15             A   \n",
       "305984  1005121  P00265542      M  26-35           7             C   \n",
       "97310   1003080  P00058442      M  26-35          20             A   \n",
       "491862  1003757  P00036842      M  26-35           7             B   \n",
       "\n",
       "       Stay_In_Current_City_Years  Marital_Status  Product_Category_1  \\\n",
       "358342                         4+               0                   8   \n",
       "236054                          1               1                   8   \n",
       "305984                         4+               0                   5   \n",
       "97310                          4+               1                   5   \n",
       "491862                          1               0                   1   \n",
       "\n",
       "        Product_Category_2  Product_Category_3  Purchase  \n",
       "358342                 NaN                 NaN      9963  \n",
       "236054                14.0                 NaN      9928  \n",
       "305984                 8.0                 NaN      3569  \n",
       "97310                 14.0                 NaN      3581  \n",
       "491862                14.0                16.0     19480  "
      ]
     },
     "execution_count": 3,
     "metadata": {},
     "output_type": "execute_result"
    }
   ],
   "source": [
    "#Como os dados estao no dataframe\n",
    "black_friday.sample(5)"
   ]
  },
  {
   "cell_type": "markdown",
   "metadata": {},
   "source": [
    "Qual o tamanho do dataset"
   ]
  },
  {
   "cell_type": "code",
   "execution_count": 4,
   "metadata": {},
   "outputs": [
    {
     "data": {
      "text/plain": [
       "(537577, 12)"
      ]
     },
     "execution_count": 4,
     "metadata": {},
     "output_type": "execute_result"
    }
   ],
   "source": [
    "# Tamanho do dataset\n",
    "black_friday.shape"
   ]
  },
  {
   "cell_type": "markdown",
   "metadata": {},
   "source": [
    "Entendendo sobre os tipos de variaveis dentro do dataset"
   ]
  },
  {
   "cell_type": "code",
   "execution_count": 5,
   "metadata": {},
   "outputs": [
    {
     "name": "stdout",
     "output_type": "stream",
     "text": [
      "<class 'pandas.core.frame.DataFrame'>\n",
      "RangeIndex: 537577 entries, 0 to 537576\n",
      "Data columns (total 12 columns):\n",
      " #   Column                      Non-Null Count   Dtype  \n",
      "---  ------                      --------------   -----  \n",
      " 0   User_ID                     537577 non-null  int64  \n",
      " 1   Product_ID                  537577 non-null  object \n",
      " 2   Gender                      537577 non-null  object \n",
      " 3   Age                         537577 non-null  object \n",
      " 4   Occupation                  537577 non-null  int64  \n",
      " 5   City_Category               537577 non-null  object \n",
      " 6   Stay_In_Current_City_Years  537577 non-null  object \n",
      " 7   Marital_Status              537577 non-null  int64  \n",
      " 8   Product_Category_1          537577 non-null  int64  \n",
      " 9   Product_Category_2          370591 non-null  float64\n",
      " 10  Product_Category_3          164278 non-null  float64\n",
      " 11  Purchase                    537577 non-null  int64  \n",
      "dtypes: float64(2), int64(5), object(5)\n",
      "memory usage: 49.2+ MB\n"
     ]
    }
   ],
   "source": [
    "# Vendo as sobre as colunas do dataframe\n",
    "black_friday.info()"
   ]
  },
  {
   "cell_type": "markdown",
   "metadata": {},
   "source": [
    "# Entendendo melhor sobre o perfil de cliente que mais comprou na Black Friday\n",
    "\n",
    "Valores maximos de cada coluna em destaque"
   ]
  },
  {
   "cell_type": "code",
   "execution_count": 6,
   "metadata": {},
   "outputs": [
    {
     "data": {
      "text/html": [
       "<style  type=\"text/css\" >\n",
       "    #T_318111a4_b413_11ea_bef1_dc5360138b83row2_col0 {\n",
       "            background-color:  yellow;\n",
       "        }    #T_318111a4_b413_11ea_bef1_dc5360138b83row2_col1 {\n",
       "            background-color:  yellow;\n",
       "        }    #T_318111a4_b413_11ea_bef1_dc5360138b83row2_col2 {\n",
       "            background-color:  yellow;\n",
       "        }    #T_318111a4_b413_11ea_bef1_dc5360138b83row2_col3 {\n",
       "            background-color:  yellow;\n",
       "        }</style><table id=\"T_318111a4_b413_11ea_bef1_dc5360138b83\" ><thead>    <tr>        <th class=\"blank level0\" ></th>        <th class=\"col_heading level0 col0\" >F_n_users</th>        <th class=\"col_heading level0 col1\" >M_n_users</th>        <th class=\"col_heading level0 col2\" >F_Purchase_sum</th>        <th class=\"col_heading level0 col3\" >M_Purchase_sum</th>    </tr>    <tr>        <th class=\"index_name level0\" >Age</th>        <th class=\"blank\" ></th>        <th class=\"blank\" ></th>        <th class=\"blank\" ></th>        <th class=\"blank\" ></th>    </tr></thead><tbody>\n",
       "                <tr>\n",
       "                        <th id=\"T_318111a4_b413_11ea_bef1_dc5360138b83level0_row0\" class=\"row_heading level0 row0\" >0-17</th>\n",
       "                        <td id=\"T_318111a4_b413_11ea_bef1_dc5360138b83row0_col0\" class=\"data row0 col0\" >78</td>\n",
       "                        <td id=\"T_318111a4_b413_11ea_bef1_dc5360138b83row0_col1\" class=\"data row0 col1\" >140</td>\n",
       "                        <td id=\"T_318111a4_b413_11ea_bef1_dc5360138b83row0_col2\" class=\"data row0 col2\" >41826615</td>\n",
       "                        <td id=\"T_318111a4_b413_11ea_bef1_dc5360138b83row0_col3\" class=\"data row0 col3\" >90832391</td>\n",
       "            </tr>\n",
       "            <tr>\n",
       "                        <th id=\"T_318111a4_b413_11ea_bef1_dc5360138b83level0_row1\" class=\"row_heading level0 row1\" >18-25</th>\n",
       "                        <td id=\"T_318111a4_b413_11ea_bef1_dc5360138b83row1_col0\" class=\"data row1 col0\" >287</td>\n",
       "                        <td id=\"T_318111a4_b413_11ea_bef1_dc5360138b83row1_col1\" class=\"data row1 col1\" >782</td>\n",
       "                        <td id=\"T_318111a4_b413_11ea_bef1_dc5360138b83row1_col2\" class=\"data row1 col2\" >202209450</td>\n",
       "                        <td id=\"T_318111a4_b413_11ea_bef1_dc5360138b83row1_col3\" class=\"data row1 col3\" >699459830</td>\n",
       "            </tr>\n",
       "            <tr>\n",
       "                        <th id=\"T_318111a4_b413_11ea_bef1_dc5360138b83level0_row2\" class=\"row_heading level0 row2\" >26-35</th>\n",
       "                        <td id=\"T_318111a4_b413_11ea_bef1_dc5360138b83row2_col0\" class=\"data row2 col0\" >545</td>\n",
       "                        <td id=\"T_318111a4_b413_11ea_bef1_dc5360138b83row2_col1\" class=\"data row2 col1\" >1508</td>\n",
       "                        <td id=\"T_318111a4_b413_11ea_bef1_dc5360138b83row2_col2\" class=\"data row2 col2\" >433857680</td>\n",
       "                        <td id=\"T_318111a4_b413_11ea_bef1_dc5360138b83row2_col3\" class=\"data row2 col3\" >1565891426</td>\n",
       "            </tr>\n",
       "            <tr>\n",
       "                        <th id=\"T_318111a4_b413_11ea_bef1_dc5360138b83level0_row3\" class=\"row_heading level0 row3\" >36-45</th>\n",
       "                        <td id=\"T_318111a4_b413_11ea_bef1_dc5360138b83row3_col0\" class=\"data row3 col0\" >333</td>\n",
       "                        <td id=\"T_318111a4_b413_11ea_bef1_dc5360138b83row3_col1\" class=\"data row3 col1\" >834</td>\n",
       "                        <td id=\"T_318111a4_b413_11ea_bef1_dc5360138b83row3_col2\" class=\"data row3 col2\" >239010480</td>\n",
       "                        <td id=\"T_318111a4_b413_11ea_bef1_dc5360138b83row3_col3\" class=\"data row3 col3\" >771639085</td>\n",
       "            </tr>\n",
       "            <tr>\n",
       "                        <th id=\"T_318111a4_b413_11ea_bef1_dc5360138b83level0_row4\" class=\"row_heading level0 row4\" >46-50</th>\n",
       "                        <td id=\"T_318111a4_b413_11ea_bef1_dc5360138b83row4_col0\" class=\"data row4 col0\" >182</td>\n",
       "                        <td id=\"T_318111a4_b413_11ea_bef1_dc5360138b83row4_col1\" class=\"data row4 col1\" >349</td>\n",
       "                        <td id=\"T_318111a4_b413_11ea_bef1_dc5360138b83row4_col2\" class=\"data row4 col2\" >114796993</td>\n",
       "                        <td id=\"T_318111a4_b413_11ea_bef1_dc5360138b83row4_col3\" class=\"data row4 col3\" >298621230</td>\n",
       "            </tr>\n",
       "            <tr>\n",
       "                        <th id=\"T_318111a4_b413_11ea_bef1_dc5360138b83level0_row5\" class=\"row_heading level0 row5\" >51-55</th>\n",
       "                        <td id=\"T_318111a4_b413_11ea_bef1_dc5360138b83row5_col0\" class=\"data row5 col0\" >142</td>\n",
       "                        <td id=\"T_318111a4_b413_11ea_bef1_dc5360138b83row5_col1\" class=\"data row5 col1\" >339</td>\n",
       "                        <td id=\"T_318111a4_b413_11ea_bef1_dc5360138b83row5_col2\" class=\"data row5 col2\" >87972407</td>\n",
       "                        <td id=\"T_318111a4_b413_11ea_bef1_dc5360138b83row5_col3\" class=\"data row5 col3\" >273935949</td>\n",
       "            </tr>\n",
       "            <tr>\n",
       "                        <th id=\"T_318111a4_b413_11ea_bef1_dc5360138b83level0_row6\" class=\"row_heading level0 row6\" >55+</th>\n",
       "                        <td id=\"T_318111a4_b413_11ea_bef1_dc5360138b83row6_col0\" class=\"data row6 col0\" >99</td>\n",
       "                        <td id=\"T_318111a4_b413_11ea_bef1_dc5360138b83row6_col1\" class=\"data row6 col1\" >273</td>\n",
       "                        <td id=\"T_318111a4_b413_11ea_bef1_dc5360138b83row6_col2\" class=\"data row6 col2\" >44950396</td>\n",
       "                        <td id=\"T_318111a4_b413_11ea_bef1_dc5360138b83row6_col3\" class=\"data row6 col3\" >152664446</td>\n",
       "            </tr>\n",
       "    </tbody></table>"
      ],
      "text/plain": [
       "<pandas.io.formats.style.Styler at 0x1c2ac9f0b88>"
      ]
     },
     "execution_count": 6,
     "metadata": {},
     "output_type": "execute_result"
    }
   ],
   "source": [
    "df = black_friday.groupby(['Age', 'Gender']).agg({'User_ID':'nunique', \"Purchase\":\"sum\"}).unstack()\n",
    "df.columns = ['_'.join(col).rstrip('_') for col in [c[::-1] for c in df.columns.values]]\n",
    "df.columns = ('F_n_users', 'M_n_users', 'F_Purchase_sum', 'M_Purchase_sum')\n",
    "df.style.highlight_max(axis=0)"
   ]
  },
  {
   "cell_type": "markdown",
   "metadata": {},
   "source": [
    "Os top 10 clientes que mais compraram na Black Friday"
   ]
  },
  {
   "cell_type": "code",
   "execution_count": 7,
   "metadata": {},
   "outputs": [
    {
     "data": {
      "text/html": [
       "<style  type=\"text/css\" >\n",
       "    #T_31905246_b413_11ea_97e6_dc5360138b83row0_col0 {\n",
       "            background-color:  yellow;\n",
       "        }    #T_31905246_b413_11ea_97e6_dc5360138b83row1_col1 {\n",
       "            background-color:  yellow;\n",
       "        }</style><table id=\"T_31905246_b413_11ea_97e6_dc5360138b83\" ><thead>    <tr>        <th class=\"blank level0\" ></th>        <th class=\"col_heading level0 col0\" >Number_of_Purchased_itens</th>        <th class=\"col_heading level0 col1\" >Purchase_sum</th>    </tr>    <tr>        <th class=\"index_name level0\" >User_ID</th>        <th class=\"blank\" ></th>        <th class=\"blank\" ></th>    </tr></thead><tbody>\n",
       "                <tr>\n",
       "                        <th id=\"T_31905246_b413_11ea_97e6_dc5360138b83level0_row0\" class=\"row_heading level0 row0\" >1001680</th>\n",
       "                        <td id=\"T_31905246_b413_11ea_97e6_dc5360138b83row0_col0\" class=\"data row0 col0\" >1025</td>\n",
       "                        <td id=\"T_31905246_b413_11ea_97e6_dc5360138b83row0_col1\" class=\"data row0 col1\" >8699232</td>\n",
       "            </tr>\n",
       "            <tr>\n",
       "                        <th id=\"T_31905246_b413_11ea_97e6_dc5360138b83level0_row1\" class=\"row_heading level0 row1\" >1004277</th>\n",
       "                        <td id=\"T_31905246_b413_11ea_97e6_dc5360138b83row1_col0\" class=\"data row1 col0\" >978</td>\n",
       "                        <td id=\"T_31905246_b413_11ea_97e6_dc5360138b83row1_col1\" class=\"data row1 col1\" >10536783</td>\n",
       "            </tr>\n",
       "            <tr>\n",
       "                        <th id=\"T_31905246_b413_11ea_97e6_dc5360138b83level0_row2\" class=\"row_heading level0 row2\" >1001941</th>\n",
       "                        <td id=\"T_31905246_b413_11ea_97e6_dc5360138b83row2_col0\" class=\"data row2 col0\" >898</td>\n",
       "                        <td id=\"T_31905246_b413_11ea_97e6_dc5360138b83row2_col1\" class=\"data row2 col1\" >6817493</td>\n",
       "            </tr>\n",
       "            <tr>\n",
       "                        <th id=\"T_31905246_b413_11ea_97e6_dc5360138b83level0_row3\" class=\"row_heading level0 row3\" >1001181</th>\n",
       "                        <td id=\"T_31905246_b413_11ea_97e6_dc5360138b83row3_col0\" class=\"data row3 col0\" >861</td>\n",
       "                        <td id=\"T_31905246_b413_11ea_97e6_dc5360138b83row3_col1\" class=\"data row3 col1\" >6387899</td>\n",
       "            </tr>\n",
       "            <tr>\n",
       "                        <th id=\"T_31905246_b413_11ea_97e6_dc5360138b83level0_row4\" class=\"row_heading level0 row4\" >1000889</th>\n",
       "                        <td id=\"T_31905246_b413_11ea_97e6_dc5360138b83row4_col0\" class=\"data row4 col0\" >822</td>\n",
       "                        <td id=\"T_31905246_b413_11ea_97e6_dc5360138b83row4_col1\" class=\"data row4 col1\" >5499812</td>\n",
       "            </tr>\n",
       "            <tr>\n",
       "                        <th id=\"T_31905246_b413_11ea_97e6_dc5360138b83level0_row5\" class=\"row_heading level0 row5\" >1003618</th>\n",
       "                        <td id=\"T_31905246_b413_11ea_97e6_dc5360138b83row5_col0\" class=\"data row5 col0\" >766</td>\n",
       "                        <td id=\"T_31905246_b413_11ea_97e6_dc5360138b83row5_col1\" class=\"data row5 col1\" >5961987</td>\n",
       "            </tr>\n",
       "            <tr>\n",
       "                        <th id=\"T_31905246_b413_11ea_97e6_dc5360138b83level0_row6\" class=\"row_heading level0 row6\" >1001150</th>\n",
       "                        <td id=\"T_31905246_b413_11ea_97e6_dc5360138b83row6_col0\" class=\"data row6 col0\" >752</td>\n",
       "                        <td id=\"T_31905246_b413_11ea_97e6_dc5360138b83row6_col1\" class=\"data row6 col1\" >4728932</td>\n",
       "            </tr>\n",
       "            <tr>\n",
       "                        <th id=\"T_31905246_b413_11ea_97e6_dc5360138b83level0_row7\" class=\"row_heading level0 row7\" >1001015</th>\n",
       "                        <td id=\"T_31905246_b413_11ea_97e6_dc5360138b83row7_col0\" class=\"data row7 col0\" >739</td>\n",
       "                        <td id=\"T_31905246_b413_11ea_97e6_dc5360138b83row7_col1\" class=\"data row7 col1\" >6511302</td>\n",
       "            </tr>\n",
       "            <tr>\n",
       "                        <th id=\"T_31905246_b413_11ea_97e6_dc5360138b83level0_row8\" class=\"row_heading level0 row8\" >1002909</th>\n",
       "                        <td id=\"T_31905246_b413_11ea_97e6_dc5360138b83row8_col0\" class=\"data row8 col0\" >717</td>\n",
       "                        <td id=\"T_31905246_b413_11ea_97e6_dc5360138b83row8_col1\" class=\"data row8 col1\" >7577505</td>\n",
       "            </tr>\n",
       "            <tr>\n",
       "                        <th id=\"T_31905246_b413_11ea_97e6_dc5360138b83level0_row9\" class=\"row_heading level0 row9\" >1001449</th>\n",
       "                        <td id=\"T_31905246_b413_11ea_97e6_dc5360138b83row9_col0\" class=\"data row9 col0\" >714</td>\n",
       "                        <td id=\"T_31905246_b413_11ea_97e6_dc5360138b83row9_col1\" class=\"data row9 col1\" >5103795</td>\n",
       "            </tr>\n",
       "    </tbody></table>"
      ],
      "text/plain": [
       "<pandas.io.formats.style.Styler at 0x1c2aca54948>"
      ]
     },
     "execution_count": 7,
     "metadata": {},
     "output_type": "execute_result"
    }
   ],
   "source": [
    "df = black_friday.groupby([\"User_ID\"]).agg(\n",
    "        {'Product_ID':'count', \n",
    "        \"Purchase\":\"sum\"}\n",
    "        ).sort_values(\n",
    "            \"Product_ID\", \n",
    "            ascending = False\n",
    "    ).head(10)\n",
    "\n",
    "df.columns = ('Number_of_Purchased_itens', 'Purchase_sum')\n",
    "df.style.highlight_max(axis=0)"
   ]
  },
  {
   "cell_type": "markdown",
   "metadata": {},
   "source": [
    "Top 10 profissoes que compraram mais"
   ]
  },
  {
   "cell_type": "code",
   "execution_count": 8,
   "metadata": {},
   "outputs": [
    {
     "data": {
      "text/html": [
       "<style  type=\"text/css\" >\n",
       "    #T_31b63e12_b413_11ea_bf09_dc5360138b83row0_col0 {\n",
       "            background-color:  yellow;\n",
       "        }    #T_31b63e12_b413_11ea_bf09_dc5360138b83row0_col1 {\n",
       "            background-color:  yellow;\n",
       "        }</style><table id=\"T_31b63e12_b413_11ea_bf09_dc5360138b83\" ><thead>    <tr>        <th class=\"blank level0\" ></th>        <th class=\"col_heading level0 col0\" >Number_of_Purchased_itens</th>        <th class=\"col_heading level0 col1\" >Purchase_sum</th>    </tr>    <tr>        <th class=\"index_name level0\" >Occupation</th>        <th class=\"blank\" ></th>        <th class=\"blank\" ></th>    </tr></thead><tbody>\n",
       "                <tr>\n",
       "                        <th id=\"T_31b63e12_b413_11ea_bf09_dc5360138b83level0_row0\" class=\"row_heading level0 row0\" >4</th>\n",
       "                        <td id=\"T_31b63e12_b413_11ea_bf09_dc5360138b83row0_col0\" class=\"data row0 col0\" >70862</td>\n",
       "                        <td id=\"T_31b63e12_b413_11ea_bf09_dc5360138b83row0_col1\" class=\"data row0 col1\" >657530393</td>\n",
       "            </tr>\n",
       "            <tr>\n",
       "                        <th id=\"T_31b63e12_b413_11ea_bf09_dc5360138b83level0_row1\" class=\"row_heading level0 row1\" >0</th>\n",
       "                        <td id=\"T_31b63e12_b413_11ea_bf09_dc5360138b83row1_col0\" class=\"data row1 col0\" >68120</td>\n",
       "                        <td id=\"T_31b63e12_b413_11ea_bf09_dc5360138b83row1_col1\" class=\"data row1 col1\" >625814811</td>\n",
       "            </tr>\n",
       "            <tr>\n",
       "                        <th id=\"T_31b63e12_b413_11ea_bf09_dc5360138b83level0_row2\" class=\"row_heading level0 row2\" >7</th>\n",
       "                        <td id=\"T_31b63e12_b413_11ea_bf09_dc5360138b83row2_col0\" class=\"data row2 col0\" >57806</td>\n",
       "                        <td id=\"T_31b63e12_b413_11ea_bf09_dc5360138b83row2_col1\" class=\"data row2 col1\" >549282744</td>\n",
       "            </tr>\n",
       "            <tr>\n",
       "                        <th id=\"T_31b63e12_b413_11ea_bf09_dc5360138b83level0_row3\" class=\"row_heading level0 row3\" >1</th>\n",
       "                        <td id=\"T_31b63e12_b413_11ea_bf09_dc5360138b83row3_col0\" class=\"data row3 col0\" >45971</td>\n",
       "                        <td id=\"T_31b63e12_b413_11ea_bf09_dc5360138b83row3_col1\" class=\"data row3 col1\" >414552829</td>\n",
       "            </tr>\n",
       "            <tr>\n",
       "                        <th id=\"T_31b63e12_b413_11ea_bf09_dc5360138b83level0_row4\" class=\"row_heading level0 row4\" >17</th>\n",
       "                        <td id=\"T_31b63e12_b413_11ea_bf09_dc5360138b83row4_col0\" class=\"data row4 col0\" >39090</td>\n",
       "                        <td id=\"T_31b63e12_b413_11ea_bf09_dc5360138b83row4_col1\" class=\"data row4 col1\" >387240355</td>\n",
       "            </tr>\n",
       "            <tr>\n",
       "                        <th id=\"T_31b63e12_b413_11ea_bf09_dc5360138b83level0_row5\" class=\"row_heading level0 row5\" >20</th>\n",
       "                        <td id=\"T_31b63e12_b413_11ea_bf09_dc5360138b83row5_col0\" class=\"data row5 col0\" >32910</td>\n",
       "                        <td id=\"T_31b63e12_b413_11ea_bf09_dc5360138b83row5_col1\" class=\"data row5 col1\" >292276985</td>\n",
       "            </tr>\n",
       "            <tr>\n",
       "                        <th id=\"T_31b63e12_b413_11ea_bf09_dc5360138b83level0_row6\" class=\"row_heading level0 row6\" >12</th>\n",
       "                        <td id=\"T_31b63e12_b413_11ea_bf09_dc5360138b83row6_col0\" class=\"data row6 col0\" >30423</td>\n",
       "                        <td id=\"T_31b63e12_b413_11ea_bf09_dc5360138b83row6_col1\" class=\"data row6 col1\" >300672105</td>\n",
       "            </tr>\n",
       "            <tr>\n",
       "                        <th id=\"T_31b63e12_b413_11ea_bf09_dc5360138b83level0_row7\" class=\"row_heading level0 row7\" >14</th>\n",
       "                        <td id=\"T_31b63e12_b413_11ea_bf09_dc5360138b83row7_col0\" class=\"data row7 col0\" >26712</td>\n",
       "                        <td id=\"T_31b63e12_b413_11ea_bf09_dc5360138b83row7_col1\" class=\"data row7 col1\" >255594745</td>\n",
       "            </tr>\n",
       "            <tr>\n",
       "                        <th id=\"T_31b63e12_b413_11ea_bf09_dc5360138b83level0_row8\" class=\"row_heading level0 row8\" >2</th>\n",
       "                        <td id=\"T_31b63e12_b413_11ea_bf09_dc5360138b83row8_col0\" class=\"data row8 col0\" >25845</td>\n",
       "                        <td id=\"T_31b63e12_b413_11ea_bf09_dc5360138b83row8_col1\" class=\"data row8 col1\" >233275393</td>\n",
       "            </tr>\n",
       "            <tr>\n",
       "                        <th id=\"T_31b63e12_b413_11ea_bf09_dc5360138b83level0_row9\" class=\"row_heading level0 row9\" >16</th>\n",
       "                        <td id=\"T_31b63e12_b413_11ea_bf09_dc5360138b83row9_col0\" class=\"data row9 col0\" >24790</td>\n",
       "                        <td id=\"T_31b63e12_b413_11ea_bf09_dc5360138b83row9_col1\" class=\"data row9 col1\" >234442330</td>\n",
       "            </tr>\n",
       "    </tbody></table>"
      ],
      "text/plain": [
       "<pandas.io.formats.style.Styler at 0x1c2adc2bb08>"
      ]
     },
     "execution_count": 8,
     "metadata": {},
     "output_type": "execute_result"
    }
   ],
   "source": [
    "df = black_friday.groupby([\"Occupation\"]).agg(\n",
    "        {'Product_ID':'count', \n",
    "        \"Purchase\":\"sum\"}\n",
    "        ).sort_values(\n",
    "            \"Product_ID\", \n",
    "            ascending = False\n",
    "    ).head(10)\n",
    "\n",
    "df.columns = ('Number_of_Purchased_itens', 'Purchase_sum')\n",
    "df.style.highlight_max(axis=0)"
   ]
  },
  {
   "cell_type": "markdown",
   "metadata": {},
   "source": [
    "Qual estado civil comprou mais?"
   ]
  },
  {
   "cell_type": "code",
   "execution_count": 9,
   "metadata": {},
   "outputs": [
    {
     "data": {
      "text/html": [
       "<style  type=\"text/css\" >\n",
       "    #T_31c88f14_b413_11ea_8fdb_dc5360138b83row0_col0 {\n",
       "            background-color:  yellow;\n",
       "        }    #T_31c88f14_b413_11ea_8fdb_dc5360138b83row0_col1 {\n",
       "            background-color:  yellow;\n",
       "        }</style><table id=\"T_31c88f14_b413_11ea_8fdb_dc5360138b83\" ><thead>    <tr>        <th class=\"blank level0\" ></th>        <th class=\"col_heading level0 col0\" >Number_of_sales</th>        <th class=\"col_heading level0 col1\" >Purchase_sum</th>    </tr>    <tr>        <th class=\"index_name level0\" >Marital_Status</th>        <th class=\"blank\" ></th>        <th class=\"blank\" ></th>    </tr></thead><tbody>\n",
       "                <tr>\n",
       "                        <th id=\"T_31c88f14_b413_11ea_8fdb_dc5360138b83level0_row0\" class=\"row_heading level0 row0\" >0</th>\n",
       "                        <td id=\"T_31c88f14_b413_11ea_8fdb_dc5360138b83row0_col0\" class=\"data row0 col0\" >317817</td>\n",
       "                        <td id=\"T_31c88f14_b413_11ea_8fdb_dc5360138b83row0_col1\" class=\"data row0 col1\" >2966289500</td>\n",
       "            </tr>\n",
       "            <tr>\n",
       "                        <th id=\"T_31c88f14_b413_11ea_8fdb_dc5360138b83level0_row1\" class=\"row_heading level0 row1\" >1</th>\n",
       "                        <td id=\"T_31c88f14_b413_11ea_8fdb_dc5360138b83row1_col0\" class=\"data row1 col0\" >219760</td>\n",
       "                        <td id=\"T_31c88f14_b413_11ea_8fdb_dc5360138b83row1_col1\" class=\"data row1 col1\" >2051378878</td>\n",
       "            </tr>\n",
       "    </tbody></table>"
      ],
      "text/plain": [
       "<pandas.io.formats.style.Styler at 0x1c2adc3cb48>"
      ]
     },
     "execution_count": 9,
     "metadata": {},
     "output_type": "execute_result"
    }
   ],
   "source": [
    "df = black_friday.groupby(\n",
    "    ['Marital_Status']\n",
    "    ).agg(\n",
    "        {'Product_ID':'count', \n",
    "        \"Purchase\":\"sum\"}\n",
    "        )\n",
    "df.columns = ('Number_of_sales', 'Purchase_sum')\n",
    "df.style.highlight_max(axis=0)"
   ]
  },
  {
   "cell_type": "markdown",
   "metadata": {},
   "source": [
    "Compras por categoria de cidades"
   ]
  },
  {
   "cell_type": "code",
   "execution_count": 10,
   "metadata": {},
   "outputs": [
    {
     "data": {
      "text/html": [
       "<style  type=\"text/css\" >\n",
       "    #T_31d908b6_b413_11ea_8107_dc5360138b83row1_col0 {\n",
       "            background-color:  yellow;\n",
       "        }    #T_31d908b6_b413_11ea_8107_dc5360138b83row1_col1 {\n",
       "            background-color:  yellow;\n",
       "        }</style><table id=\"T_31d908b6_b413_11ea_8107_dc5360138b83\" ><thead>    <tr>        <th class=\"blank level0\" ></th>        <th class=\"col_heading level0 col0\" >Number_of_sales</th>        <th class=\"col_heading level0 col1\" >Purchase_sum</th>    </tr>    <tr>        <th class=\"index_name level0\" >City_Category</th>        <th class=\"blank\" ></th>        <th class=\"blank\" ></th>    </tr></thead><tbody>\n",
       "                <tr>\n",
       "                        <th id=\"T_31d908b6_b413_11ea_8107_dc5360138b83level0_row0\" class=\"row_heading level0 row0\" >A</th>\n",
       "                        <td id=\"T_31d908b6_b413_11ea_8107_dc5360138b83row0_col0\" class=\"data row0 col0\" >144638</td>\n",
       "                        <td id=\"T_31d908b6_b413_11ea_8107_dc5360138b83row0_col1\" class=\"data row0 col1\" >1295668797</td>\n",
       "            </tr>\n",
       "            <tr>\n",
       "                        <th id=\"T_31d908b6_b413_11ea_8107_dc5360138b83level0_row1\" class=\"row_heading level0 row1\" >B</th>\n",
       "                        <td id=\"T_31d908b6_b413_11ea_8107_dc5360138b83row1_col0\" class=\"data row1 col0\" >226493</td>\n",
       "                        <td id=\"T_31d908b6_b413_11ea_8107_dc5360138b83row1_col1\" class=\"data row1 col1\" >2083431612</td>\n",
       "            </tr>\n",
       "            <tr>\n",
       "                        <th id=\"T_31d908b6_b413_11ea_8107_dc5360138b83level0_row2\" class=\"row_heading level0 row2\" >C</th>\n",
       "                        <td id=\"T_31d908b6_b413_11ea_8107_dc5360138b83row2_col0\" class=\"data row2 col0\" >166446</td>\n",
       "                        <td id=\"T_31d908b6_b413_11ea_8107_dc5360138b83row2_col1\" class=\"data row2 col1\" >1638567969</td>\n",
       "            </tr>\n",
       "    </tbody></table>"
      ],
      "text/plain": [
       "<pandas.io.formats.style.Styler at 0x1c2adc3c6c8>"
      ]
     },
     "execution_count": 10,
     "metadata": {},
     "output_type": "execute_result"
    }
   ],
   "source": [
    "df = black_friday.groupby(\n",
    "    ['City_Category']\n",
    "    ).agg(\n",
    "        {'Product_ID':'count', \n",
    "        \"Purchase\":\"sum\"}\n",
    "        )\n",
    "df.columns = ('Number_of_sales', 'Purchase_sum')\n",
    "df.style.highlight_max(axis=0)"
   ]
  },
  {
   "cell_type": "markdown",
   "metadata": {},
   "source": [
    "# Entendendo sobre os produtos mais vendidos\n",
    "top 10 produtos mais vendidos e com maiores faturamentos"
   ]
  },
  {
   "cell_type": "code",
   "execution_count": 11,
   "metadata": {},
   "outputs": [
    {
     "data": {
      "text/html": [
       "<style  type=\"text/css\" >\n",
       "    #T_31ec903a_b413_11ea_a988_dc5360138b83row0_col1 {\n",
       "            background-color:  yellow;\n",
       "        }    #T_31ec903a_b413_11ea_a988_dc5360138b83row1_col0 {\n",
       "            background-color:  yellow;\n",
       "        }</style><table id=\"T_31ec903a_b413_11ea_a988_dc5360138b83\" ><thead>    <tr>        <th class=\"blank level0\" ></th>        <th class=\"col_heading level0 col0\" >Number_of_sales</th>        <th class=\"col_heading level0 col1\" >Purchase_sum</th>    </tr>    <tr>        <th class=\"index_name level0\" >Product_ID</th>        <th class=\"blank\" ></th>        <th class=\"blank\" ></th>    </tr></thead><tbody>\n",
       "                <tr>\n",
       "                        <th id=\"T_31ec903a_b413_11ea_a988_dc5360138b83level0_row0\" class=\"row_heading level0 row0\" >P00025442</th>\n",
       "                        <td id=\"T_31ec903a_b413_11ea_a988_dc5360138b83row0_col0\" class=\"data row0 col0\" >1586</td>\n",
       "                        <td id=\"T_31ec903a_b413_11ea_a988_dc5360138b83row0_col1\" class=\"data row0 col1\" >27532426</td>\n",
       "            </tr>\n",
       "            <tr>\n",
       "                        <th id=\"T_31ec903a_b413_11ea_a988_dc5360138b83level0_row1\" class=\"row_heading level0 row1\" >P00110742</th>\n",
       "                        <td id=\"T_31ec903a_b413_11ea_a988_dc5360138b83row1_col0\" class=\"data row1 col0\" >1591</td>\n",
       "                        <td id=\"T_31ec903a_b413_11ea_a988_dc5360138b83row1_col1\" class=\"data row1 col1\" >26382569</td>\n",
       "            </tr>\n",
       "            <tr>\n",
       "                        <th id=\"T_31ec903a_b413_11ea_a988_dc5360138b83level0_row2\" class=\"row_heading level0 row2\" >P00255842</th>\n",
       "                        <td id=\"T_31ec903a_b413_11ea_a988_dc5360138b83row2_col0\" class=\"data row2 col0\" >1354</td>\n",
       "                        <td id=\"T_31ec903a_b413_11ea_a988_dc5360138b83row2_col1\" class=\"data row2 col1\" >24652442</td>\n",
       "            </tr>\n",
       "            <tr>\n",
       "                        <th id=\"T_31ec903a_b413_11ea_a988_dc5360138b83level0_row3\" class=\"row_heading level0 row3\" >P00184942</th>\n",
       "                        <td id=\"T_31ec903a_b413_11ea_a988_dc5360138b83row3_col0\" class=\"data row3 col0\" >1424</td>\n",
       "                        <td id=\"T_31ec903a_b413_11ea_a988_dc5360138b83row3_col1\" class=\"data row3 col1\" >24060871</td>\n",
       "            </tr>\n",
       "            <tr>\n",
       "                        <th id=\"T_31ec903a_b413_11ea_a988_dc5360138b83level0_row4\" class=\"row_heading level0 row4\" >P00059442</th>\n",
       "                        <td id=\"T_31ec903a_b413_11ea_a988_dc5360138b83row4_col0\" class=\"data row4 col0\" >1384</td>\n",
       "                        <td id=\"T_31ec903a_b413_11ea_a988_dc5360138b83row4_col1\" class=\"data row4 col1\" >23948299</td>\n",
       "            </tr>\n",
       "            <tr>\n",
       "                        <th id=\"T_31ec903a_b413_11ea_a988_dc5360138b83level0_row5\" class=\"row_heading level0 row5\" >P00112142</th>\n",
       "                        <td id=\"T_31ec903a_b413_11ea_a988_dc5360138b83row5_col0\" class=\"data row5 col0\" >1539</td>\n",
       "                        <td id=\"T_31ec903a_b413_11ea_a988_dc5360138b83row5_col1\" class=\"data row5 col1\" >23882624</td>\n",
       "            </tr>\n",
       "            <tr>\n",
       "                        <th id=\"T_31ec903a_b413_11ea_a988_dc5360138b83level0_row6\" class=\"row_heading level0 row6\" >P00110942</th>\n",
       "                        <td id=\"T_31ec903a_b413_11ea_a988_dc5360138b83row6_col0\" class=\"data row6 col0\" >1336</td>\n",
       "                        <td id=\"T_31ec903a_b413_11ea_a988_dc5360138b83row6_col1\" class=\"data row6 col1\" >23232538</td>\n",
       "            </tr>\n",
       "            <tr>\n",
       "                        <th id=\"T_31ec903a_b413_11ea_a988_dc5360138b83level0_row7\" class=\"row_heading level0 row7\" >P00237542</th>\n",
       "                        <td id=\"T_31ec903a_b413_11ea_a988_dc5360138b83row7_col0\" class=\"data row7 col0\" >1374</td>\n",
       "                        <td id=\"T_31ec903a_b413_11ea_a988_dc5360138b83row7_col1\" class=\"data row7 col1\" >23096487</td>\n",
       "            </tr>\n",
       "            <tr>\n",
       "                        <th id=\"T_31ec903a_b413_11ea_a988_dc5360138b83level0_row8\" class=\"row_heading level0 row8\" >P00057642</th>\n",
       "                        <td id=\"T_31ec903a_b413_11ea_a988_dc5360138b83row8_col0\" class=\"data row8 col0\" >1430</td>\n",
       "                        <td id=\"T_31ec903a_b413_11ea_a988_dc5360138b83row8_col1\" class=\"data row8 col1\" >22493690</td>\n",
       "            </tr>\n",
       "            <tr>\n",
       "                        <th id=\"T_31ec903a_b413_11ea_a988_dc5360138b83level0_row9\" class=\"row_heading level0 row9\" >P00010742</th>\n",
       "                        <td id=\"T_31ec903a_b413_11ea_a988_dc5360138b83row9_col0\" class=\"data row9 col0\" >1331</td>\n",
       "                        <td id=\"T_31ec903a_b413_11ea_a988_dc5360138b83row9_col1\" class=\"data row9 col1\" >21865042</td>\n",
       "            </tr>\n",
       "    </tbody></table>"
      ],
      "text/plain": [
       "<pandas.io.formats.style.Styler at 0x1c2adc40a08>"
      ]
     },
     "execution_count": 11,
     "metadata": {},
     "output_type": "execute_result"
    }
   ],
   "source": [
    "#top 10 pridutos mais vendidos e com maiores faturamentos\n",
    "df = black_friday.groupby(\n",
    "    ['Product_ID']\n",
    "    ).agg(\n",
    "        {'Product_ID':'count', \n",
    "        \"Purchase\":\"sum\"}\n",
    "        ).sort_values(\n",
    "            \"Purchase\", \n",
    "            ascending = False\n",
    "    ).head(10)\n",
    "df.columns = ('Number_of_sales', 'Purchase_sum')\n",
    "df.style.highlight_max(axis=0)"
   ]
  },
  {
   "cell_type": "markdown",
   "metadata": {},
   "source": [
    "Categoria primaria mais vendida"
   ]
  },
  {
   "cell_type": "code",
   "execution_count": 12,
   "metadata": {},
   "outputs": [
    {
     "data": {
      "text/html": [
       "<style  type=\"text/css\" >\n",
       "    #T_31f97182_b413_11ea_acf2_dc5360138b83row0_col1 {\n",
       "            background-color:  yellow;\n",
       "        }    #T_31f97182_b413_11ea_acf2_dc5360138b83row1_col0 {\n",
       "            background-color:  yellow;\n",
       "        }</style><table id=\"T_31f97182_b413_11ea_acf2_dc5360138b83\" ><thead>    <tr>        <th class=\"blank level0\" ></th>        <th class=\"col_heading level0 col0\" >Number_of_sales</th>        <th class=\"col_heading level0 col1\" >Purchase_sum</th>    </tr>    <tr>        <th class=\"index_name level0\" >Product_Category_1</th>        <th class=\"blank\" ></th>        <th class=\"blank\" ></th>    </tr></thead><tbody>\n",
       "                <tr>\n",
       "                        <th id=\"T_31f97182_b413_11ea_acf2_dc5360138b83level0_row0\" class=\"row_heading level0 row0\" >1</th>\n",
       "                        <td id=\"T_31f97182_b413_11ea_acf2_dc5360138b83row0_col0\" class=\"data row0 col0\" >138353</td>\n",
       "                        <td id=\"T_31f97182_b413_11ea_acf2_dc5360138b83row0_col1\" class=\"data row0 col1\" >1882666325</td>\n",
       "            </tr>\n",
       "            <tr>\n",
       "                        <th id=\"T_31f97182_b413_11ea_acf2_dc5360138b83level0_row1\" class=\"row_heading level0 row1\" >5</th>\n",
       "                        <td id=\"T_31f97182_b413_11ea_acf2_dc5360138b83row1_col0\" class=\"data row1 col0\" >148592</td>\n",
       "                        <td id=\"T_31f97182_b413_11ea_acf2_dc5360138b83row1_col1\" class=\"data row1 col1\" >926917497</td>\n",
       "            </tr>\n",
       "            <tr>\n",
       "                        <th id=\"T_31f97182_b413_11ea_acf2_dc5360138b83level0_row2\" class=\"row_heading level0 row2\" >8</th>\n",
       "                        <td id=\"T_31f97182_b413_11ea_acf2_dc5360138b83row2_col0\" class=\"data row2 col0\" >112132</td>\n",
       "                        <td id=\"T_31f97182_b413_11ea_acf2_dc5360138b83row2_col1\" class=\"data row2 col1\" >840693394</td>\n",
       "            </tr>\n",
       "            <tr>\n",
       "                        <th id=\"T_31f97182_b413_11ea_acf2_dc5360138b83level0_row3\" class=\"row_heading level0 row3\" >6</th>\n",
       "                        <td id=\"T_31f97182_b413_11ea_acf2_dc5360138b83row3_col0\" class=\"data row3 col0\" >20164</td>\n",
       "                        <td id=\"T_31f97182_b413_11ea_acf2_dc5360138b83row3_col1\" class=\"data row3 col1\" >319355286</td>\n",
       "            </tr>\n",
       "            <tr>\n",
       "                        <th id=\"T_31f97182_b413_11ea_acf2_dc5360138b83level0_row4\" class=\"row_heading level0 row4\" >2</th>\n",
       "                        <td id=\"T_31f97182_b413_11ea_acf2_dc5360138b83row4_col0\" class=\"data row4 col0\" >23499</td>\n",
       "                        <td id=\"T_31f97182_b413_11ea_acf2_dc5360138b83row4_col1\" class=\"data row4 col1\" >264497242</td>\n",
       "            </tr>\n",
       "            <tr>\n",
       "                        <th id=\"T_31f97182_b413_11ea_acf2_dc5360138b83level0_row5\" class=\"row_heading level0 row5\" >3</th>\n",
       "                        <td id=\"T_31f97182_b413_11ea_acf2_dc5360138b83row5_col0\" class=\"data row5 col0\" >19849</td>\n",
       "                        <td id=\"T_31f97182_b413_11ea_acf2_dc5360138b83row5_col1\" class=\"data row5 col1\" >200412211</td>\n",
       "            </tr>\n",
       "            <tr>\n",
       "                        <th id=\"T_31f97182_b413_11ea_acf2_dc5360138b83level0_row6\" class=\"row_heading level0 row6\" >16</th>\n",
       "                        <td id=\"T_31f97182_b413_11ea_acf2_dc5360138b83row6_col0\" class=\"data row6 col0\" >9697</td>\n",
       "                        <td id=\"T_31f97182_b413_11ea_acf2_dc5360138b83row6_col1\" class=\"data row6 col1\" >143168035</td>\n",
       "            </tr>\n",
       "            <tr>\n",
       "                        <th id=\"T_31f97182_b413_11ea_acf2_dc5360138b83level0_row7\" class=\"row_heading level0 row7\" >11</th>\n",
       "                        <td id=\"T_31f97182_b413_11ea_acf2_dc5360138b83row7_col0\" class=\"data row7 col0\" >23960</td>\n",
       "                        <td id=\"T_31f97182_b413_11ea_acf2_dc5360138b83row7_col1\" class=\"data row7 col1\" >112203088</td>\n",
       "            </tr>\n",
       "            <tr>\n",
       "                        <th id=\"T_31f97182_b413_11ea_acf2_dc5360138b83level0_row8\" class=\"row_heading level0 row8\" >10</th>\n",
       "                        <td id=\"T_31f97182_b413_11ea_acf2_dc5360138b83row8_col0\" class=\"data row8 col0\" >5032</td>\n",
       "                        <td id=\"T_31f97182_b413_11ea_acf2_dc5360138b83row8_col1\" class=\"data row8 col1\" >99029631</td>\n",
       "            </tr>\n",
       "            <tr>\n",
       "                        <th id=\"T_31f97182_b413_11ea_acf2_dc5360138b83level0_row9\" class=\"row_heading level0 row9\" >15</th>\n",
       "                        <td id=\"T_31f97182_b413_11ea_acf2_dc5360138b83row9_col0\" class=\"data row9 col0\" >6203</td>\n",
       "                        <td id=\"T_31f97182_b413_11ea_acf2_dc5360138b83row9_col1\" class=\"data row9 col1\" >91658147</td>\n",
       "            </tr>\n",
       "    </tbody></table>"
      ],
      "text/plain": [
       "<pandas.io.formats.style.Styler at 0x1c2adc489c8>"
      ]
     },
     "execution_count": 12,
     "metadata": {},
     "output_type": "execute_result"
    }
   ],
   "source": [
    "#top 10 pridutos mais vendidos e com maiores faturamentos\n",
    "\n",
    "df = black_friday.groupby(\n",
    "    ['Product_Category_1']\n",
    "    ).agg(\n",
    "        {'Product_ID':'count', \n",
    "        \"Purchase\":\"sum\"}\n",
    "        ).sort_values(\n",
    "            \"Purchase\", \n",
    "            ascending = False\n",
    "    ).head(10)\n",
    "df.columns = ('Number_of_sales', 'Purchase_sum')\n",
    "df.style.highlight_max(axis=0)"
   ]
  },
  {
   "cell_type": "markdown",
   "metadata": {},
   "source": [
    "Entrando no detalhe das categoria dos produtos"
   ]
  },
  {
   "cell_type": "code",
   "execution_count": 13,
   "metadata": {},
   "outputs": [
    {
     "data": {
      "text/html": [
       "<style  type=\"text/css\" >\n",
       "    #T_3266aa88_b413_11ea_bb25_dc5360138b83row0_col1 {\n",
       "            background-color:  yellow;\n",
       "        }    #T_3266aa88_b413_11ea_bb25_dc5360138b83row1_col0 {\n",
       "            background-color:  yellow;\n",
       "        }</style><table id=\"T_3266aa88_b413_11ea_bb25_dc5360138b83\" ><thead>    <tr>        <th class=\"blank\" ></th>        <th class=\"blank\" ></th>        <th class=\"blank level0\" ></th>        <th class=\"col_heading level0 col0\" >Number_of_sales</th>        <th class=\"col_heading level0 col1\" >Purchase_sum</th>    </tr>    <tr>        <th class=\"index_name level0\" >Product_Category_1</th>        <th class=\"index_name level1\" >Product_Category_2</th>        <th class=\"index_name level2\" >Product_Category_3</th>        <th class=\"blank\" ></th>        <th class=\"blank\" ></th>    </tr></thead><tbody>\n",
       "                <tr>\n",
       "                        <th id=\"T_3266aa88_b413_11ea_bb25_dc5360138b83level0_row0\" class=\"row_heading level0 row0\" >8</th>\n",
       "                        <th id=\"T_3266aa88_b413_11ea_bb25_dc5360138b83level1_row0\" class=\"row_heading level1 row0\" >-</th>\n",
       "                        <th id=\"T_3266aa88_b413_11ea_bb25_dc5360138b83level2_row0\" class=\"row_heading level2 row0\" >-</th>\n",
       "                        <td id=\"T_3266aa88_b413_11ea_bb25_dc5360138b83row0_col0\" class=\"data row0 col0\" >59828</td>\n",
       "                        <td id=\"T_3266aa88_b413_11ea_bb25_dc5360138b83row0_col1\" class=\"data row0 col1\" >449437193</td>\n",
       "            </tr>\n",
       "            <tr>\n",
       "                        <th id=\"T_3266aa88_b413_11ea_bb25_dc5360138b83level0_row1\" class=\"row_heading level0 row1\" >5</th>\n",
       "                        <th id=\"T_3266aa88_b413_11ea_bb25_dc5360138b83level1_row1\" class=\"row_heading level1 row1\" >-</th>\n",
       "                        <th id=\"T_3266aa88_b413_11ea_bb25_dc5360138b83level2_row1\" class=\"row_heading level2 row1\" >-</th>\n",
       "                        <td id=\"T_3266aa88_b413_11ea_bb25_dc5360138b83row1_col0\" class=\"data row1 col0\" >62788</td>\n",
       "                        <td id=\"T_3266aa88_b413_11ea_bb25_dc5360138b83row1_col1\" class=\"data row1 col1\" >383126455</td>\n",
       "            </tr>\n",
       "            <tr>\n",
       "                        <th id=\"T_3266aa88_b413_11ea_bb25_dc5360138b83level0_row2\" class=\"row_heading level0 row2\" rowspan=2>1</th>\n",
       "                        <th id=\"T_3266aa88_b413_11ea_bb25_dc5360138b83level1_row2\" class=\"row_heading level1 row2\" >16.0</th>\n",
       "                        <th id=\"T_3266aa88_b413_11ea_bb25_dc5360138b83level2_row2\" class=\"row_heading level2 row2\" >-</th>\n",
       "                        <td id=\"T_3266aa88_b413_11ea_bb25_dc5360138b83row2_col0\" class=\"data row2 col0\" >14411</td>\n",
       "                        <td id=\"T_3266aa88_b413_11ea_bb25_dc5360138b83row2_col1\" class=\"data row2 col1\" >198147606</td>\n",
       "            </tr>\n",
       "            <tr>\n",
       "                                <th id=\"T_3266aa88_b413_11ea_bb25_dc5360138b83level1_row3\" class=\"row_heading level1 row3\" >2.0</th>\n",
       "                        <th id=\"T_3266aa88_b413_11ea_bb25_dc5360138b83level2_row3\" class=\"row_heading level2 row3\" >15.0</th>\n",
       "                        <td id=\"T_3266aa88_b413_11ea_bb25_dc5360138b83row3_col0\" class=\"data row3 col0\" >14657</td>\n",
       "                        <td id=\"T_3266aa88_b413_11ea_bb25_dc5360138b83row3_col1\" class=\"data row3 col1\" >191990411</td>\n",
       "            </tr>\n",
       "            <tr>\n",
       "                        <th id=\"T_3266aa88_b413_11ea_bb25_dc5360138b83level0_row4\" class=\"row_heading level0 row4\" >5</th>\n",
       "                        <th id=\"T_3266aa88_b413_11ea_bb25_dc5360138b83level1_row4\" class=\"row_heading level1 row4\" >8.0</th>\n",
       "                        <th id=\"T_3266aa88_b413_11ea_bb25_dc5360138b83level2_row4\" class=\"row_heading level2 row4\" >-</th>\n",
       "                        <td id=\"T_3266aa88_b413_11ea_bb25_dc5360138b83row4_col0\" class=\"data row4 col0\" >22816</td>\n",
       "                        <td id=\"T_3266aa88_b413_11ea_bb25_dc5360138b83row4_col1\" class=\"data row4 col1\" >149089678</td>\n",
       "            </tr>\n",
       "            <tr>\n",
       "                        <th id=\"T_3266aa88_b413_11ea_bb25_dc5360138b83level0_row5\" class=\"row_heading level0 row5\" >16</th>\n",
       "                        <th id=\"T_3266aa88_b413_11ea_bb25_dc5360138b83level1_row5\" class=\"row_heading level1 row5\" >-</th>\n",
       "                        <th id=\"T_3266aa88_b413_11ea_bb25_dc5360138b83level2_row5\" class=\"row_heading level2 row5\" >-</th>\n",
       "                        <td id=\"T_3266aa88_b413_11ea_bb25_dc5360138b83row5_col0\" class=\"data row5 col0\" >9697</td>\n",
       "                        <td id=\"T_3266aa88_b413_11ea_bb25_dc5360138b83row5_col1\" class=\"data row5 col1\" >143168035</td>\n",
       "            </tr>\n",
       "            <tr>\n",
       "                        <th id=\"T_3266aa88_b413_11ea_bb25_dc5360138b83level0_row6\" class=\"row_heading level0 row6\" >5</th>\n",
       "                        <th id=\"T_3266aa88_b413_11ea_bb25_dc5360138b83level1_row6\" class=\"row_heading level1 row6\" >14.0</th>\n",
       "                        <th id=\"T_3266aa88_b413_11ea_bb25_dc5360138b83level2_row6\" class=\"row_heading level2 row6\" >-</th>\n",
       "                        <td id=\"T_3266aa88_b413_11ea_bb25_dc5360138b83row6_col0\" class=\"data row6 col0\" >22751</td>\n",
       "                        <td id=\"T_3266aa88_b413_11ea_bb25_dc5360138b83row6_col1\" class=\"data row6 col1\" >141726506</td>\n",
       "            </tr>\n",
       "            <tr>\n",
       "                        <th id=\"T_3266aa88_b413_11ea_bb25_dc5360138b83level0_row7\" class=\"row_heading level0 row7\" >1</th>\n",
       "                        <th id=\"T_3266aa88_b413_11ea_bb25_dc5360138b83level1_row7\" class=\"row_heading level1 row7\" >15.0</th>\n",
       "                        <th id=\"T_3266aa88_b413_11ea_bb25_dc5360138b83level2_row7\" class=\"row_heading level2 row7\" >16.0</th>\n",
       "                        <td id=\"T_3266aa88_b413_11ea_bb25_dc5360138b83row7_col0\" class=\"data row7 col0\" >8875</td>\n",
       "                        <td id=\"T_3266aa88_b413_11ea_bb25_dc5360138b83row7_col1\" class=\"data row7 col1\" >128434630</td>\n",
       "            </tr>\n",
       "            <tr>\n",
       "                        <th id=\"T_3266aa88_b413_11ea_bb25_dc5360138b83level0_row8\" class=\"row_heading level0 row8\" >8</th>\n",
       "                        <th id=\"T_3266aa88_b413_11ea_bb25_dc5360138b83level1_row8\" class=\"row_heading level1 row8\" >14.0</th>\n",
       "                        <th id=\"T_3266aa88_b413_11ea_bb25_dc5360138b83level2_row8\" class=\"row_heading level2 row8\" >-</th>\n",
       "                        <td id=\"T_3266aa88_b413_11ea_bb25_dc5360138b83row8_col0\" class=\"data row8 col0\" >15674</td>\n",
       "                        <td id=\"T_3266aa88_b413_11ea_bb25_dc5360138b83row8_col1\" class=\"data row8 col1\" >112743286</td>\n",
       "            </tr>\n",
       "            <tr>\n",
       "                        <th id=\"T_3266aa88_b413_11ea_bb25_dc5360138b83level0_row9\" class=\"row_heading level0 row9\" >1</th>\n",
       "                        <th id=\"T_3266aa88_b413_11ea_bb25_dc5360138b83level1_row9\" class=\"row_heading level1 row9\" >2.0</th>\n",
       "                        <th id=\"T_3266aa88_b413_11ea_bb25_dc5360138b83level2_row9\" class=\"row_heading level2 row9\" >5.0</th>\n",
       "                        <td id=\"T_3266aa88_b413_11ea_bb25_dc5360138b83row9_col0\" class=\"data row9 col0\" >7877</td>\n",
       "                        <td id=\"T_3266aa88_b413_11ea_bb25_dc5360138b83row9_col1\" class=\"data row9 col1\" >109898345</td>\n",
       "            </tr>\n",
       "    </tbody></table>"
      ],
      "text/plain": [
       "<pandas.io.formats.style.Styler at 0x1c2adc10f08>"
      ]
     },
     "execution_count": 13,
     "metadata": {},
     "output_type": "execute_result"
    }
   ],
   "source": [
    "#top 10 pridutos mais vendidos e com maiores faturamentos\n",
    "fillnulldf = black_friday.fillna(\"-\")\n",
    "df = fillnulldf.groupby(\n",
    "    ['Product_Category_1',\"Product_Category_2\",\"Product_Category_3\"]\n",
    "    ).agg(\n",
    "        {'Product_ID':'count', \n",
    "        \"Purchase\":\"sum\"}\n",
    "        ).sort_values(\n",
    "            \"Purchase\", \n",
    "            ascending = False\n",
    "    ).head(10)\n",
    "df.columns = ('Number_of_sales', 'Purchase_sum')\n",
    "df.style.highlight_max(axis=0)"
   ]
  },
  {
   "cell_type": "markdown",
   "metadata": {},
   "source": [
    "## Questão 1\n",
    "\n",
    "Quantas observações e quantas colunas há no dataset? Responda no formato de uma tuple `(n_observacoes, n_colunas)`."
   ]
  },
  {
   "cell_type": "code",
   "execution_count": 14,
   "metadata": {},
   "outputs": [],
   "source": [
    "def q1():\n",
    "    # Retorne aqui o resultado da questão 1.\n",
    "    # Tamanho do dataset\n",
    "    return black_friday.shape\n",
    "    #pass"
   ]
  },
  {
   "cell_type": "markdown",
   "metadata": {},
   "source": [
    "## Questão 2\n",
    "\n",
    "Há quantas mulheres com idade entre 26 e 35 anos no dataset? Responda como um único escalar."
   ]
  },
  {
   "cell_type": "code",
   "execution_count": 34,
   "metadata": {},
   "outputs": [],
   "source": [
    "def q2():\n",
    "    # Retorne aqui o resultado da questão 2.\n",
    "    # Há quantas mulheres com idade entre 26 e 35 anos no dataset? Responda como um único escalar.\n",
    "    filter1 = (black_friday['Gender'] == 'F') #apenas genero feminino\n",
    "    filter2 = (black_friday['Age'] == '26-35') # categoria de idade\n",
    "    return int(black_friday[(filter1) & (filter2)].User_ID.count()) #.nunique()) \n",
    "    #pass"
   ]
  },
  {
   "cell_type": "markdown",
   "metadata": {},
   "source": [
    "## Questão 3\n",
    "\n",
    "Quantos usuários únicos há no dataset? Responda como um único escalar."
   ]
  },
  {
   "cell_type": "code",
   "execution_count": 16,
   "metadata": {},
   "outputs": [],
   "source": [
    "def q3():\n",
    "    # Retorne aqui o resultado da questão 3.\n",
    "    return black_friday['User_ID'].nunique()\n",
    "    #pass"
   ]
  },
  {
   "cell_type": "markdown",
   "metadata": {},
   "source": [
    "## Questão 4\n",
    "\n",
    "Quantos tipos de dados diferentes existem no dataset? Responda como um único escalar."
   ]
  },
  {
   "cell_type": "code",
   "execution_count": 17,
   "metadata": {},
   "outputs": [],
   "source": [
    "def q4():\n",
    "    # Retorne aqui o resultado da questão 4.\n",
    "    return black_friday.dtypes.nunique()\n",
    "    #pass"
   ]
  },
  {
   "cell_type": "markdown",
   "metadata": {},
   "source": [
    "## Questão 5\n",
    "\n",
    "Qual porcentagem dos registros possui ao menos um valor null (`None`, `ǸaN` etc)? Responda como um único escalar entre 0 e 1."
   ]
  },
  {
   "cell_type": "code",
   "execution_count": 18,
   "metadata": {},
   "outputs": [],
   "source": [
    "def q5():\n",
    "    # Retorne aqui o resultado da questão 5.\n",
    "    return sum(black_friday.isna().any(axis=1))/len(black_friday)\n",
    "    #pass"
   ]
  },
  {
   "cell_type": "markdown",
   "metadata": {},
   "source": [
    "## Questão 6\n",
    "\n",
    "Quantos valores null existem na variável (coluna) com o maior número de null? Responda como um único escalar."
   ]
  },
  {
   "cell_type": "code",
   "execution_count": 19,
   "metadata": {},
   "outputs": [],
   "source": [
    "def q6():\n",
    "    # Retorne aqui o resultado da questão 6.\n",
    "    return max(black_friday.isna().sum())\n",
    "    #pass\n"
   ]
  },
  {
   "cell_type": "markdown",
   "metadata": {},
   "source": [
    "## Questão 7\n",
    "\n",
    "Qual o valor mais frequente (sem contar nulls) em `Product_Category_3`? Responda como um único escalar."
   ]
  },
  {
   "cell_type": "code",
   "execution_count": 20,
   "metadata": {},
   "outputs": [],
   "source": [
    "def q7():\n",
    "    # Retorne aqui o resultado da questão 7.\n",
    "    return black_friday[\"Product_Category_3\"].value_counts().index[0]\n",
    "    pass"
   ]
  },
  {
   "cell_type": "markdown",
   "metadata": {},
   "source": [
    "## Questão 8\n",
    "\n",
    "Qual a nova média da variável (coluna) `Purchase` após sua normalização? Responda como um único escalar."
   ]
  },
  {
   "cell_type": "code",
   "execution_count": 21,
   "metadata": {},
   "outputs": [],
   "source": [
    "def q8():\n",
    "    # Retorne aqui o resultado da questão 8.\n",
    "#    from sklearn.preprocessing import MinMaxScaler\n",
    "#    scaler = MinMaxScaler()\n",
    "#    scaled = scaler.fit_transform(black_friday[['Purchase']].astype('float'))\n",
    "    scaled = (black_friday['Purchase'] - black_friday['Purchase'].min())/(black_friday['Purchase'].max() - black_friday['Purchase'].min())\n",
    "    return float(scaled.mean())\n",
    "    #pass"
   ]
  },
  {
   "cell_type": "markdown",
   "metadata": {},
   "source": [
    "## Questão 9\n",
    "\n",
    "Quantas ocorrências entre -1 e 1 inclusive existem da variáel `Purchase` após sua padronização? Responda como um único escalar."
   ]
  },
  {
   "cell_type": "code",
   "execution_count": 22,
   "metadata": {},
   "outputs": [],
   "source": [
    "def q9():\n",
    "    # Retorne aqui o resultado da questão 9.\n",
    "    #Quantas ocorrências entre -1 e 1 inclusive existem da variáel Purchase após sua padronização? Responda como um único escalar.\n",
    "#    from sklearn.preprocessing import StandardScaler\n",
    "#    stdscaler = StandardScaler().fit_transform(black_friday[['Purchase']])\n",
    "#    return int((np.abs(stdscaler) <= 1).sum())\n",
    "    return int((abs((black_friday['Purchase'] - black_friday['Purchase'].mean())/black_friday['Purchase'].std())<=1).sum())\n",
    "    #pass"
   ]
  },
  {
   "cell_type": "markdown",
   "metadata": {},
   "source": [
    "## Questão 10\n",
    "\n",
    "Podemos afirmar que se uma observação é null em `Product_Category_2` ela também o é em `Product_Category_3`? Responda com um bool (`True`, `False`)."
   ]
  },
  {
   "cell_type": "code",
   "execution_count": 23,
   "metadata": {},
   "outputs": [],
   "source": [
    "def q10():\n",
    "    # Retorne aqui o resultado da questão 10.\n",
    "    return bool(\n",
    "                    (\n",
    "                        black_friday[\"Product_Category_2\"].isna() == # retornar nulls de cat 2\n",
    "                        (black_friday[\"Product_Category_2\"].isna()) & (black_friday['Product_Category_3'].isna()) # retornar nulls de cat 2 e cat 3\n",
    "                    ).all()\n",
    "                )\n",
    "    # pass"
   ]
  }
 ],
 "metadata": {
  "kernelspec": {
   "display_name": "Python 3",
   "language": "python",
   "name": "python3"
  },
  "language_info": {
   "codemirror_mode": {
    "name": "ipython",
    "version": 3
   },
   "file_extension": ".py",
   "mimetype": "text/x-python",
   "name": "python",
   "nbconvert_exporter": "python",
   "pygments_lexer": "ipython3",
   "version": "3.7.6"
  }
 },
 "nbformat": 4,
 "nbformat_minor": 2
}
