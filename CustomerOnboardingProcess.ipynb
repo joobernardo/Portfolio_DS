{
  "nbformat": 4,
  "nbformat_minor": 0,
  "metadata": {
    "colab": {
      "name": "Pipefy_integration.ipynb",
      "provenance": [],
      "collapsed_sections": []
    },
    "kernelspec": {
      "name": "python3",
      "display_name": "Python 3"
    }
  },
  "cells": [
    {
      "cell_type": "code",
      "metadata": {
        "id": "1msb9l5jQgIW",
        "colab_type": "code",
        "colab": {}
      },
      "source": [
        "authtoken = \"X\""
      ],
      "execution_count": 0,
      "outputs": []
    },
    {
      "cell_type": "markdown",
      "metadata": {
        "id": "ul7_qwDQZanb",
        "colab_type": "text"
      },
      "source": [
        "**Situation** - Startup, based on SaaS business model, were growing but not on desired growth. MRR Booking was increasing faster than Active MRR that the Customer Onboarding Department could implement.\n",
        "\n",
        "The Customer Onboarding Department had 7 operational workers (including me and uses Pipefy (https://www.pipefy.com/) as a management platform. The processes were known but the team often had bottleneck issues in different parts of the process where task forces were needed to be resolved generating inefficiency in the implementation process and sometimes impacting the customer experience.\n",
        "  \n",
        "In Pipefy, each customer is represented by a Card and it goes through 9 parallel processes that are described by Pipes and together they add up to 48 Phases.\n",
        "\n",
        "**Task** - \n",
        "Create a visualization tool to predict process bottlenecks so that the team can act before it happens and create a 360º view for each customer in order to define the customer onboarding prioritization.\n",
        "\n",
        "**Action** -\n",
        "I wrote a code in Python to connect to Pipefy (via its API) and manipulate data to plot it directly in Power BI.\n",
        "First, I focused on understanding the Pipefy API and how to write a query in GraphQL in order to get the data I need.\n",
        "After that, I manipulated the data describing how the Customer Onboarding process works and applied a logic rule aiming to identify the bottleneck process. There is also a query in GraphQL to find which phase each customer is in each pipe.\n",
        "Finally, I plotted it on PowerBI.\n",
        "\n",
        "**Results** - \n",
        "Now the Customer Onboarding Team has a tool where they can identify or predict the process bottleneck. Also the 360º view for each customer allow better planning making the team more efficient."
      ]
    },
    {
      "cell_type": "code",
      "metadata": {
        "id": "_2CqAP3_N1JX",
        "colab_type": "code",
        "colab": {}
      },
      "source": [
        "import requests\n",
        "import json\n",
        "import pandas as pd\n",
        "\n",
        "# API connection PowerBI - Pipefy ==============\n",
        "url = \"https://api.pipefy.com/graphql\"\n",
        "query = \"{organization(id: \"+ str(314358) + \") {name pipes{id name phases {name cards_count}}}}\"\n",
        "payload = \"{\\\"query\\\":\\\"\" + query + \"\\\"}\"\n",
        "headers = {\n",
        "    'authorization': \"Bearer \" + authtoken, # authtoken = Pipefy authorization token\n",
        "    'content-type': \"application/json\"\n",
        "    }\n",
        "response = requests.request(\"POST\", url, data=payload, headers=headers)\n",
        "JsonPipeFy = json.loads(response.text)"
      ],
      "execution_count": 0,
      "outputs": []
    },
    {
      "cell_type": "code",
      "metadata": {
        "id": "YHRI2IGkQy_8",
        "colab_type": "code",
        "colab": {}
      },
      "source": [
        "# Converting json data into Pandas structure\n",
        "Pipe = [] # Pipeline's name\n",
        "Phase = [] # Phase's name\n",
        "NumCli = [] # Number of customers in respectively phases\n",
        "phase_id = [] # Phase id - used for table connection \n",
        "for x in JsonPipeFy['data']['organization']['pipes']:\n",
        "  for i in x['phases']:\n",
        "    Pipe.append(x['name'])  \n",
        "    Phase.append(i['name'])\n",
        "    NumCli.append(i['cards_count'])\n",
        "    phase_id.append(x['id'])\n",
        "\n",
        "dict = {'Pipe': Pipe, 'Phase': Phase, 'NumCli': NumCli, 'Phase_Id': phase_id}\n",
        "dfx = pd.DataFrame(dict)\n",
        "dfx.NumCli = dfx.NumCli.astype(str).astype(int)\n",
        "\n",
        "# Avoiding data that do not need in dashboard\n",
        "Gestao_filter = (dfx[\"Phase\"].str.contains('I  - TFV')== False) & (dfx[\"Phase\"].str.contains('Passado para GV')== False)\n",
        "Canais_filter = (dfx[\"Phase\"].str.contains('H - Aguardar Dia G')== False) & (dfx[\"Phase\"].str.contains('I - Enviar Feedback e Solicitar NF')== False) & (dfx[\"Phase\"].str.contains('J - Aguardar NF')== False) & (dfx[\"Phase\"].str.contains('K - Enviar Comprovante de Pagamento')== False) & (dfx[\"Phase\"].str.contains('L - Processo Finalizado')== False)  & (dfx[\"Phase\"].str.contains('M - Sem Integração')== False) & (dfx[\"Phase\"].str.contains('H - Dia G')== False) \n",
        "General_filter = (dfx[\"Phase\"].str.contains('Cancela') == False)\n",
        "Exec_filter = (dfx[\"Phase\"].str.contains('D - FUP pós dia G') == False) & (dfx[\"Phase\"].str.contains('E - Concluído') == False)\n",
        "Cardapio_filter = (dfx[\"Phase\"].str.contains('Implementação feita') == False)\n",
        "IDV_filter = (dfx[\"Phase\"].str.contains('Implementação feita') == False)\n",
        "Logistica_filter = (dfx[\"Phase\"].str.contains('Implementação feita') == False)\n",
        "Operacao_filter = (dfx[\"Phase\"].str.contains('Implementação feita') == False)\n",
        "Tablet_filter = (dfx[\"Phase\"].str.contains('Implementação feita') == False)\n",
        "\n",
        "# Applying filters\n",
        "Phase_Filter = (Exec_filter) & (General_filter) & (Canais_filter) & (Gestao_filter) & (Cardapio_filter) & (IDV_filter) & (Logistica_filter) & (Operacao_filter) & (Tablet_filter)\n",
        "df = dfx[(dfx[\"Pipe\"].str.contains('[IMP]') == True) & (dfx[\"Pipe\"].str.contains('Impedit') == False) & (Phase_Filter)]\n"
      ],
      "execution_count": 0,
      "outputs": []
    },
    {
      "cell_type": "code",
      "metadata": {
        "id": "AXuOcPAnXXVv",
        "colab_type": "code",
        "colab": {}
      },
      "source": [
        "# Calculating scores\n",
        "# Scores\n",
        "\n",
        "v_Pipename = []\n",
        "v_ScorePipe = []\n",
        "for i in df.Pipe.unique():\n",
        "\n",
        "  w1 = 1 # Phase Weight increases as customer goes through phases\n",
        "  ScorePhase = 0 # Score Phase = Number of customer * Phase Weight \n",
        "  ScorePhaseSum = 0 # Pipe Score = ScorePhaseSum = sum (ScorePhase)\n",
        "\n",
        "  for j in df[(df.Pipe == i)].Phase.unique():\n",
        "    ScorePhase = (float(df[(df.Pipe == i) & (df.Phase == j)].NumCli)*w1)\n",
        "    ScorePhaseSum = ScorePhaseSum + ScorePhase\n",
        "    w1 = w1 +1\n",
        "  ScorePipe = ScorePhaseSum/(df[(df.Pipe == i)].NumCli.sum()*(w1-1))\n",
        "  v_Pipename.append(i)\n",
        "  v_ScorePipe.append(ScorePipe)\n",
        "\n",
        "dict = {'Pipename': v_Pipename, 'ScorePipe': v_ScorePipe}\n",
        "df_score = pd.DataFrame(dict) # Pipe Score for all the parallel process\n",
        "IMP_score = df_score.ScorePipe.mean() \n",
        "\n",
        "dict = {\"Score_Geral\": float(str(IMP_score))}\n",
        "df_IMPscore = pd.DataFrame([dict]) # Department score\n",
        "\n",
        "phase_id_vector = df.Phase_Id.unique()\n",
        "\n",
        "# Manipulating data for 360º view for each customer\n",
        "Pipe_id = [] # Pipe id to connect tables in PowerBI\n",
        "Phase_name = [] # Phase name\n",
        "CustomerName = [] # Customer Name \n",
        "for i in range(0,len(phase_id_vector)):\n",
        "  query = \"{allCards(pipeId: \"+str(phase_id_vector[i]) +\"){edges {node {id title current_phase {name}}}}}\"\n",
        "  payload = \"{\\\"query\\\":\\\"\" + query + \"\\\"}\"\n",
        "  response = requests.request(\"POST\", url, data=payload, headers=headers)\n",
        "  JsonPipeFy = json.loads(response.text)\n",
        "  #print(response.text)\n",
        "\n",
        "  for x in range(0,len(JsonPipeFy['data']['allCards']['edges'])):\n",
        "    Pipe_id.append(phase_id_vector[i])\n",
        "    Phase_name.append(JsonPipeFy['data']['allCards']['edges'][x]['node']['current_phase']['name'])\n",
        "    CustomerName.append(JsonPipeFy['data']['allCards']['edges'][x]['node']['title'])\n",
        "\n",
        "dict = {'Pipe_id': Pipe_id, 'Phase_name': Phase_name, 'Customer_Name': CustomerName}\n",
        "df2 = pd.DataFrame(dict) # 360º view matrix"
      ],
      "execution_count": 0,
      "outputs": []
    },
    {
      "cell_type": "code",
      "metadata": {
        "id": "p-WpB-OaXZyz",
        "colab_type": "code",
        "colab": {}
      },
      "source": [
        ""
      ],
      "execution_count": 0,
      "outputs": []
    }
  ]
}